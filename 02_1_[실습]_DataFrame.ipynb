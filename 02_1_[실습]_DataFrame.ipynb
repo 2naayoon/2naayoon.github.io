{
  "cells": [
    {
      "cell_type": "markdown",
      "metadata": {
        "id": "view-in-github",
        "colab_type": "text"
      },
      "source": [
        "<a href=\"https://colab.research.google.com/github/2naayoon/2naayoon.github.io/blob/main/02_1_%5B%EC%8B%A4%EC%8A%B5%5D_DataFrame.ipynb\" target=\"_parent\"><img src=\"https://colab.research.google.com/assets/colab-badge.svg\" alt=\"Open In Colab\"/></a>"
      ]
    },
    {
      "cell_type": "markdown",
      "metadata": {
        "id": "Mfwq5OAAL9vk"
      },
      "source": [
        "### [실습1]"
      ]
    },
    {
      "cell_type": "code",
      "execution_count": null,
      "metadata": {
        "id": "5RU3xA0UL9vl"
      },
      "outputs": [],
      "source": [
        "import pandas as pd"
      ]
    },
    {
      "cell_type": "code",
      "execution_count": null,
      "metadata": {
        "id": "ww3rNCw7L9vm",
        "outputId": "d60fa027-e2f0-4ca3-c26b-18690db3738f"
      },
      "outputs": [
        {
          "data": {
            "text/html": [
              "<div>\n",
              "<style scoped>\n",
              "    .dataframe tbody tr th:only-of-type {\n",
              "        vertical-align: middle;\n",
              "    }\n",
              "\n",
              "    .dataframe tbody tr th {\n",
              "        vertical-align: top;\n",
              "    }\n",
              "\n",
              "    .dataframe thead th {\n",
              "        text-align: right;\n",
              "    }\n",
              "</style>\n",
              "<table border=\"1\" class=\"dataframe\">\n",
              "  <thead>\n",
              "    <tr style=\"text-align: right;\">\n",
              "      <th></th>\n",
              "      <th>홍길동</th>\n",
              "      <th>강감찬</th>\n",
              "      <th>김종민</th>\n",
              "      <th>임창정</th>\n",
              "    </tr>\n",
              "  </thead>\n",
              "  <tbody>\n",
              "    <tr>\n",
              "      <th>java</th>\n",
              "      <td>88</td>\n",
              "      <td>82</td>\n",
              "      <td>75</td>\n",
              "      <td>45</td>\n",
              "    </tr>\n",
              "    <tr>\n",
              "      <th>python</th>\n",
              "      <td>75</td>\n",
              "      <td>62</td>\n",
              "      <td>69</td>\n",
              "      <td>56</td>\n",
              "    </tr>\n",
              "    <tr>\n",
              "      <th>basic</th>\n",
              "      <td>95</td>\n",
              "      <td>85</td>\n",
              "      <td>70</td>\n",
              "      <td>80</td>\n",
              "    </tr>\n",
              "  </tbody>\n",
              "</table>\n",
              "</div>"
            ],
            "text/plain": [
              "        홍길동  강감찬  김종민  임창정\n",
              "java     88   82   75   45\n",
              "python   75   62   69   56\n",
              "basic    95   85   70   80"
            ]
          },
          "execution_count": 2,
          "metadata": {},
          "output_type": "execute_result"
        }
      ],
      "source": [
        "data = {\n",
        "    \"홍길동\":[88,75,95],\n",
        "    \"강감찬\":[82,62,85],\n",
        "    \"김종민\":[75,69,70],\n",
        "    \"임창정\":[45,56,80]\n",
        "}\n",
        "df = pd.DataFrame(data, index=['java','python','basic'])\n",
        "df"
      ]
    },
    {
      "cell_type": "code",
      "execution_count": null,
      "metadata": {
        "id": "_kUCEv6FL9vn",
        "outputId": "c1bfe102-1e13-41f8-9bea-3667bf01f498"
      },
      "outputs": [
        {
          "data": {
            "text/plain": [
              "java      88\n",
              "python    75\n",
              "basic     95\n",
              "Name: 홍길동, dtype: int64"
            ]
          },
          "execution_count": 3,
          "metadata": {},
          "output_type": "execute_result"
        }
      ],
      "source": [
        "# 홍길동 학생의 과목별 점수를 출력하시오\n",
        "\n",
        "df[\"홍길동\"]"
      ]
    },
    {
      "cell_type": "code",
      "execution_count": null,
      "metadata": {
        "id": "JMj8S6FBL9vn",
        "outputId": "7fb857f1-1bce-448f-baf3-6dcc24f3c7ab"
      },
      "outputs": [
        {
          "data": {
            "text/plain": [
              "홍길동    75\n",
              "강감찬    62\n",
              "김종민    69\n",
              "임창정    56\n",
              "Name: python, dtype: int64"
            ]
          },
          "execution_count": 4,
          "metadata": {},
          "output_type": "execute_result"
        }
      ],
      "source": [
        "# python 과목의 점수를 출력하시오.\n",
        "\n",
        "df.loc[\"python\"]"
      ]
    },
    {
      "cell_type": "code",
      "execution_count": null,
      "metadata": {
        "id": "WB6J4nZnL9vn",
        "outputId": "0d147136-dd1f-4d5f-adf3-c84ae4e549d2"
      },
      "outputs": [
        {
          "data": {
            "text/html": [
              "<div>\n",
              "<style scoped>\n",
              "    .dataframe tbody tr th:only-of-type {\n",
              "        vertical-align: middle;\n",
              "    }\n",
              "\n",
              "    .dataframe tbody tr th {\n",
              "        vertical-align: top;\n",
              "    }\n",
              "\n",
              "    .dataframe thead th {\n",
              "        text-align: right;\n",
              "    }\n",
              "</style>\n",
              "<table border=\"1\" class=\"dataframe\">\n",
              "  <thead>\n",
              "    <tr style=\"text-align: right;\">\n",
              "      <th></th>\n",
              "      <th>홍길동</th>\n",
              "      <th>강감찬</th>\n",
              "      <th>김종민</th>\n",
              "      <th>임창정</th>\n",
              "    </tr>\n",
              "  </thead>\n",
              "  <tbody>\n",
              "    <tr>\n",
              "      <th>java</th>\n",
              "      <td>88</td>\n",
              "      <td>82</td>\n",
              "      <td>75</td>\n",
              "      <td>45</td>\n",
              "    </tr>\n",
              "    <tr>\n",
              "      <th>python</th>\n",
              "      <td>75</td>\n",
              "      <td>62</td>\n",
              "      <td>69</td>\n",
              "      <td>56</td>\n",
              "    </tr>\n",
              "    <tr>\n",
              "      <th>basic</th>\n",
              "      <td>95</td>\n",
              "      <td>85</td>\n",
              "      <td>70</td>\n",
              "      <td>78</td>\n",
              "    </tr>\n",
              "    <tr>\n",
              "      <th>sql</th>\n",
              "      <td>70</td>\n",
              "      <td>85</td>\n",
              "      <td>86</td>\n",
              "      <td>92</td>\n",
              "    </tr>\n",
              "  </tbody>\n",
              "</table>\n",
              "</div>"
            ],
            "text/plain": [
              "        홍길동  강감찬  김종민  임창정\n",
              "java     88   82   75   45\n",
              "python   75   62   69   56\n",
              "basic    95   85   70   78\n",
              "sql      70   85   86   92"
            ]
          },
          "execution_count": 6,
          "metadata": {},
          "output_type": "execute_result"
        }
      ],
      "source": [
        "# 각 학생의 sql 점수를 추가하시오 [70,85,86,92]\n",
        "\n",
        "df.loc[\"sql\"] = [70,85,86,92]\n",
        "df"
      ]
    },
    {
      "cell_type": "code",
      "execution_count": null,
      "metadata": {
        "id": "Oq3xs9CfL9vo",
        "outputId": "05d4008e-6466-4c8f-904e-ebc7feb18b39"
      },
      "outputs": [
        {
          "data": {
            "text/html": [
              "<div>\n",
              "<style scoped>\n",
              "    .dataframe tbody tr th:only-of-type {\n",
              "        vertical-align: middle;\n",
              "    }\n",
              "\n",
              "    .dataframe tbody tr th {\n",
              "        vertical-align: top;\n",
              "    }\n",
              "\n",
              "    .dataframe thead th {\n",
              "        text-align: right;\n",
              "    }\n",
              "</style>\n",
              "<table border=\"1\" class=\"dataframe\">\n",
              "  <thead>\n",
              "    <tr style=\"text-align: right;\">\n",
              "      <th></th>\n",
              "      <th>홍길동</th>\n",
              "      <th>강감찬</th>\n",
              "      <th>김종민</th>\n",
              "      <th>임창정</th>\n",
              "    </tr>\n",
              "  </thead>\n",
              "  <tbody>\n",
              "    <tr>\n",
              "      <th>java</th>\n",
              "      <td>88</td>\n",
              "      <td>82</td>\n",
              "      <td>75</td>\n",
              "      <td>45</td>\n",
              "    </tr>\n",
              "    <tr>\n",
              "      <th>python</th>\n",
              "      <td>75</td>\n",
              "      <td>62</td>\n",
              "      <td>69</td>\n",
              "      <td>56</td>\n",
              "    </tr>\n",
              "    <tr>\n",
              "      <th>sql</th>\n",
              "      <td>70</td>\n",
              "      <td>85</td>\n",
              "      <td>86</td>\n",
              "      <td>92</td>\n",
              "    </tr>\n",
              "  </tbody>\n",
              "</table>\n",
              "</div>"
            ],
            "text/plain": [
              "        홍길동  강감찬  김종민  임창정\n",
              "java     88   82   75   45\n",
              "python   75   62   69   56\n",
              "sql      70   85   86   92"
            ]
          },
          "execution_count": 7,
          "metadata": {},
          "output_type": "execute_result"
        }
      ],
      "source": [
        "# basic 점수를 삭제하시오\n",
        "\n",
        "df.drop(\"basic\",inplace=True)\n",
        "df"
      ]
    },
    {
      "cell_type": "markdown",
      "metadata": {
        "id": "X0ZEpryrL9vo"
      },
      "source": [
        "### [실습2]"
      ]
    },
    {
      "cell_type": "code",
      "execution_count": null,
      "metadata": {
        "id": "elKFh6TLL9vo",
        "outputId": "b92ecc0e-f797-4b8d-8467-8610569a438f"
      },
      "outputs": [
        {
          "data": {
            "text/html": [
              "<div>\n",
              "<style scoped>\n",
              "    .dataframe tbody tr th:only-of-type {\n",
              "        vertical-align: middle;\n",
              "    }\n",
              "\n",
              "    .dataframe tbody tr th {\n",
              "        vertical-align: top;\n",
              "    }\n",
              "\n",
              "    .dataframe thead th {\n",
              "        text-align: right;\n",
              "    }\n",
              "</style>\n",
              "<table border=\"1\" class=\"dataframe\">\n",
              "  <thead>\n",
              "    <tr style=\"text-align: right;\">\n",
              "      <th></th>\n",
              "      <th>미국</th>\n",
              "      <th>한국</th>\n",
              "      <th>중국</th>\n",
              "    </tr>\n",
              "  </thead>\n",
              "  <tbody>\n",
              "    <tr>\n",
              "      <th>0</th>\n",
              "      <td>2.1</td>\n",
              "      <td>0.40</td>\n",
              "      <td>10</td>\n",
              "    </tr>\n",
              "    <tr>\n",
              "      <th>1</th>\n",
              "      <td>2.2</td>\n",
              "      <td>0.50</td>\n",
              "      <td>13</td>\n",
              "    </tr>\n",
              "    <tr>\n",
              "      <th>2</th>\n",
              "      <td>2.3</td>\n",
              "      <td>0.45</td>\n",
              "      <td>15</td>\n",
              "    </tr>\n",
              "  </tbody>\n",
              "</table>\n",
              "</div>"
            ],
            "text/plain": [
              "    미국    한국  중국\n",
              "0  2.1  0.40  10\n",
              "1  2.2  0.50  13\n",
              "2  2.3  0.45  15"
            ]
          },
          "execution_count": 8,
          "metadata": {},
          "output_type": "execute_result"
        }
      ],
      "source": [
        "df = pd.DataFrame({\"미국\":[2.1,2.2,2.3], \"한국\":[0.4,0.5,0.45], \"중국\":[10,13,15]})\n",
        "df"
      ]
    },
    {
      "cell_type": "code",
      "execution_count": null,
      "metadata": {
        "id": "UQXDmRr5L9vo",
        "outputId": "3e5722c4-7989-43c2-ae8c-957bbf02e654"
      },
      "outputs": [
        {
          "data": {
            "text/html": [
              "<div>\n",
              "<style scoped>\n",
              "    .dataframe tbody tr th:only-of-type {\n",
              "        vertical-align: middle;\n",
              "    }\n",
              "\n",
              "    .dataframe tbody tr th {\n",
              "        vertical-align: top;\n",
              "    }\n",
              "\n",
              "    .dataframe thead th {\n",
              "        text-align: right;\n",
              "    }\n",
              "</style>\n",
              "<table border=\"1\" class=\"dataframe\">\n",
              "  <thead>\n",
              "    <tr style=\"text-align: right;\">\n",
              "      <th></th>\n",
              "      <th>미국</th>\n",
              "      <th>한국</th>\n",
              "      <th>중국</th>\n",
              "    </tr>\n",
              "  </thead>\n",
              "  <tbody>\n",
              "    <tr>\n",
              "      <th>2019</th>\n",
              "      <td>2.1</td>\n",
              "      <td>0.40</td>\n",
              "      <td>10</td>\n",
              "    </tr>\n",
              "    <tr>\n",
              "      <th>2020</th>\n",
              "      <td>2.2</td>\n",
              "      <td>0.50</td>\n",
              "      <td>13</td>\n",
              "    </tr>\n",
              "    <tr>\n",
              "      <th>2021</th>\n",
              "      <td>2.3</td>\n",
              "      <td>0.45</td>\n",
              "      <td>15</td>\n",
              "    </tr>\n",
              "  </tbody>\n",
              "</table>\n",
              "</div>"
            ],
            "text/plain": [
              "       미국    한국  중국\n",
              "2019  2.1  0.40  10\n",
              "2020  2.2  0.50  13\n",
              "2021  2.3  0.45  15"
            ]
          },
          "execution_count": 9,
          "metadata": {},
          "output_type": "execute_result"
        }
      ],
      "source": [
        "# 인덱스와 함께 생성하기\n",
        "\n",
        "df = pd.DataFrame({\"미국\":[2.1,2.2,2.3], \"한국\":[0.4,0.5,0.45], \"중국\":[10,13,15]}, index=[2019,2020,2021])\n",
        "df"
      ]
    },
    {
      "cell_type": "code",
      "execution_count": null,
      "metadata": {
        "id": "Zt7_dAdQL9vo",
        "outputId": "24421b4b-5092-4738-8ad3-a9a6dd17d82b"
      },
      "outputs": [
        {
          "data": {
            "text/plain": [
              "Int64Index([2019, 2020, 2021], dtype='int64')"
            ]
          },
          "execution_count": 10,
          "metadata": {},
          "output_type": "execute_result"
        }
      ],
      "source": [
        "#  인덱스를 출력하시오\n",
        "\n",
        "df.index"
      ]
    },
    {
      "cell_type": "code",
      "execution_count": null,
      "metadata": {
        "id": "ELL3bkCLL9vp",
        "outputId": "3bdecd11-5a70-4de8-f843-5663aea48ad9"
      },
      "outputs": [
        {
          "data": {
            "text/plain": [
              "Index(['미국', '한국', '중국'], dtype='object')"
            ]
          },
          "execution_count": 11,
          "metadata": {},
          "output_type": "execute_result"
        }
      ],
      "source": [
        "# 컬럼명을 출력하시오.\n",
        "\n",
        "df.columns"
      ]
    },
    {
      "cell_type": "code",
      "execution_count": null,
      "metadata": {
        "id": "gfMmyIUUL9vp",
        "outputId": "13503096-1bf0-4310-97c4-a6039e4abcec"
      },
      "outputs": [
        {
          "data": {
            "text/plain": [
              "array([[ 2.1 ,  0.4 , 10.  ],\n",
              "       [ 2.2 ,  0.5 , 13.  ],\n",
              "       [ 2.3 ,  0.45, 15.  ]])"
            ]
          },
          "execution_count": 12,
          "metadata": {},
          "output_type": "execute_result"
        }
      ],
      "source": [
        "# 전체 값들만 출력하기\n",
        "\n",
        "df.values"
      ]
    },
    {
      "cell_type": "code",
      "execution_count": null,
      "metadata": {
        "id": "NJk9pwqhL9vp",
        "outputId": "4c98b609-480d-44f1-a88f-19c55164628a"
      },
      "outputs": [
        {
          "data": {
            "text/plain": [
              "2019    2.1\n",
              "2020    2.2\n",
              "2021    2.3\n",
              "Name: 미국, dtype: float64"
            ]
          },
          "execution_count": 13,
          "metadata": {},
          "output_type": "execute_result"
        }
      ],
      "source": [
        "# 인덱스로 특정 컬럼 선택하기\n",
        "\n",
        "df[\"미국\"]"
      ]
    },
    {
      "cell_type": "code",
      "execution_count": null,
      "metadata": {
        "id": "VE8GvludL9vq",
        "outputId": "da859558-a5ea-4b13-c803-6c8d60ba9dad"
      },
      "outputs": [
        {
          "data": {
            "text/plain": [
              "2019    2.1\n",
              "2020    2.2\n",
              "2021    2.3\n",
              "Name: 미국, dtype: float64"
            ]
          },
          "execution_count": 14,
          "metadata": {},
          "output_type": "execute_result"
        }
      ],
      "source": [
        "df.미국   #  이 경우는 안될수도 있음"
      ]
    },
    {
      "cell_type": "code",
      "execution_count": null,
      "metadata": {
        "id": "QCp6bO_uL9vq",
        "outputId": "d543b1e5-3a68-4a42-cca9-3a981f7e5f84"
      },
      "outputs": [
        {
          "data": {
            "text/html": [
              "<div>\n",
              "<style scoped>\n",
              "    .dataframe tbody tr th:only-of-type {\n",
              "        vertical-align: middle;\n",
              "    }\n",
              "\n",
              "    .dataframe tbody tr th {\n",
              "        vertical-align: top;\n",
              "    }\n",
              "\n",
              "    .dataframe thead th {\n",
              "        text-align: right;\n",
              "    }\n",
              "</style>\n",
              "<table border=\"1\" class=\"dataframe\">\n",
              "  <thead>\n",
              "    <tr style=\"text-align: right;\">\n",
              "      <th></th>\n",
              "      <th>년도</th>\n",
              "      <th>미국</th>\n",
              "      <th>한국</th>\n",
              "      <th>중국</th>\n",
              "      <th>일본</th>\n",
              "    </tr>\n",
              "  </thead>\n",
              "  <tbody>\n",
              "    <tr>\n",
              "      <th>0</th>\n",
              "      <td>2019</td>\n",
              "      <td>2.1</td>\n",
              "      <td>0.40</td>\n",
              "      <td>10</td>\n",
              "      <td>3</td>\n",
              "    </tr>\n",
              "    <tr>\n",
              "      <th>1</th>\n",
              "      <td>2020</td>\n",
              "      <td>2.2</td>\n",
              "      <td>0.50</td>\n",
              "      <td>13</td>\n",
              "      <td>4</td>\n",
              "    </tr>\n",
              "    <tr>\n",
              "      <th>2</th>\n",
              "      <td>2021</td>\n",
              "      <td>2.3</td>\n",
              "      <td>0.45</td>\n",
              "      <td>15</td>\n",
              "      <td>5</td>\n",
              "    </tr>\n",
              "  </tbody>\n",
              "</table>\n",
              "</div>"
            ],
            "text/plain": [
              "     년도   미국    한국  중국  일본\n",
              "0  2019  2.1  0.40  10   3\n",
              "1  2020  2.2  0.50  13   4\n",
              "2  2021  2.3  0.45  15   5"
            ]
          },
          "execution_count": 28,
          "metadata": {},
          "output_type": "execute_result"
        }
      ],
      "source": [
        "# 일본 컬럼 추가하기\n",
        "\n",
        "df[\"일본\"] = [3,4,5]\n",
        "df"
      ]
    },
    {
      "cell_type": "code",
      "execution_count": null,
      "metadata": {
        "id": "_aHYrBA0L9vq"
      },
      "outputs": [],
      "source": []
    }
  ],
  "metadata": {
    "hide_input": false,
    "kernelspec": {
      "display_name": "Python 3 (ipykernel)",
      "language": "python",
      "name": "python3"
    },
    "language_info": {
      "codemirror_mode": {
        "name": "ipython",
        "version": 3
      },
      "file_extension": ".py",
      "mimetype": "text/x-python",
      "name": "python",
      "nbconvert_exporter": "python",
      "pygments_lexer": "ipython3",
      "version": "3.9.12"
    },
    "toc": {
      "base_numbering": 1,
      "nav_menu": {},
      "number_sections": true,
      "sideBar": true,
      "skip_h1_title": false,
      "title_cell": "Table of Contents",
      "title_sidebar": "Contents",
      "toc_cell": false,
      "toc_position": {},
      "toc_section_display": true,
      "toc_window_display": false
    },
    "varInspector": {
      "cols": {
        "lenName": 16,
        "lenType": 16,
        "lenVar": 40
      },
      "kernels_config": {
        "python": {
          "delete_cmd_postfix": "",
          "delete_cmd_prefix": "del ",
          "library": "var_list.py",
          "varRefreshCmd": "print(var_dic_list())"
        },
        "r": {
          "delete_cmd_postfix": ") ",
          "delete_cmd_prefix": "rm(",
          "library": "var_list.r",
          "varRefreshCmd": "cat(var_dic_list()) "
        }
      },
      "types_to_exclude": [
        "module",
        "function",
        "builtin_function_or_method",
        "instance",
        "_Feature"
      ],
      "window_display": false
    },
    "colab": {
      "provenance": [],
      "include_colab_link": true
    }
  },
  "nbformat": 4,
  "nbformat_minor": 0
}